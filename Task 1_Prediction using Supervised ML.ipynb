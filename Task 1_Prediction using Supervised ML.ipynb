{
 "cells": [
  {
   "attachments": {
    "1519895156650.jpg": {
     "image/jpeg": "[encoded data removed]"
    }
   },
   "cell_type": "markdown",
   "id": "cc752d40",
   "metadata": {},
   "source": [
    "![1519895156650.jpg](attachment:1519895156650.jpg)"
   ]
  },
  {
   "cell_type": "markdown",
   "id": "68f28bc7",
   "metadata": {},
   "source": [
    "# The Sparks Foundation: Data Science & Business Analytics Internship"
   ]
  },
  {
   "cell_type": "markdown",
   "id": "dad5591f",
   "metadata": {},
   "source": [
    "## Task 1 : Prediction using Supervised ML"
   ]
  },
  {
   "cell_type": "markdown",
   "id": "37074d20",
   "metadata": {},
   "source": [
    "### Author: Sudheer N Poojary\n",
    "### Problem statement :\n",
    "What will be predicted score if a student studies for 9.25 hrs/ day?"
   ]
  },
  {
   "cell_type": "markdown",
   "id": "ba1bdd6b",
   "metadata": {},
   "source": [
    "\n",
    "\n",
    "### **Simple Linear Regression**\n",
    "In this regression task we will predict the percentage of marks that a student is expected to score based upon the number of hours they studied. Using stats model and ScikitpLearn library can be used to implement the regression function.This is a simple linear regression task as it involves just two variables.\n",
    "\n",
    "\n",
    "- Reading and Understanding the data\n",
    "- Training the data\n",
    "- Residual analysis\n",
    "- Predicting and evaluating on the test set"
   ]
  },
  {
   "cell_type": "code",
   "execution_count": 2,
   "id": "4267553f",
   "metadata": {},
   "outputs": [],
   "source": [
    "# Importing the required libraries\n",
    "import pandas as pd, numpy as np\n",
    "import matplotlib.pyplot as plt, seaborn as sns\n",
    "%matplotlib inline\n",
    "\n",
    "# Model building libraries\n",
    "from sklearn.model_selection import train_test_split\n",
    "import statsmodels\n",
    "import statsmodels.api as sm\n",
    "import sklearn\n",
    "from sklearn.metrics import mean_squared_error\n",
    "from sklearn.metrics import r2_score\n",
    "\n",
    "# Supress Warnings\n",
    "import warnings \n",
    "warnings.filterwarnings('ignore')"
   ]
  },
  {
   "cell_type": "markdown",
   "id": "b4437b81",
   "metadata": {},
   "source": [
    " ## 1. Reading and Understanding the Data"
   ]
  },
  {
   "cell_type": "code",
   "execution_count": 3,
   "id": "23c5f219",
   "metadata": {},
   "outputs": [
    {
     "data": {
      "text/plain": [
       "(25, 2)"
      ]
     },
     "execution_count": 3,
     "metadata": {},
     "output_type": "execute_result"
    }
   ],
   "source": [
    "# Reading the csv file and putting it into 'df' object.\n",
    "df=pd.read_csv(\"student_scores.csv\")\n",
    "df.shape"
   ]
  },
  {
   "cell_type": "markdown",
   "id": "ff022db0",
   "metadata": {},
   "source": [
    "### Inspecting the Dataset"
   ]
  },
  {
   "cell_type": "code",
   "execution_count": 4,
   "id": "dd2317c3",
   "metadata": {},
   "outputs": [
    {
     "data": {
      "text/plain": [
       "Hours     0\n",
       "Scores    0\n",
       "dtype: int64"
      ]
     },
     "execution_count": 4,
     "metadata": {},
     "output_type": "execute_result"
    }
   ],
   "source": [
    "#checking the null values in data set\n",
    "df.isnull().sum()"
   ]
  },
  {
   "cell_type": "code",
   "execution_count": 5,
   "id": "dca77afc",
   "metadata": {},
   "outputs": [
    {
     "name": "stdout",
     "output_type": "stream",
     "text": [
      "<class 'pandas.core.frame.DataFrame'>\n",
      "RangeIndex: 25 entries, 0 to 24\n",
      "Data columns (total 2 columns):\n",
      " #   Column  Non-Null Count  Dtype  \n",
      "---  ------  --------------  -----  \n",
      " 0   Hours   25 non-null     float64\n",
      " 1   Scores  25 non-null     int64  \n",
      "dtypes: float64(1), int64(1)\n",
      "memory usage: 528.0 bytes\n"
     ]
    }
   ],
   "source": [
    "#checking data type of the columns.\n",
    "df.info()"
   ]
  },
  {
   "cell_type": "code",
   "execution_count": 6,
   "id": "3797498f",
   "metadata": {},
   "outputs": [
    {
     "data": {
      "text/html": [
       "<div>\n",
       "<style scoped>\n",
       "    .dataframe tbody tr th:only-of-type {\n",
       "        vertical-align: middle;\n",
       "    }\n",
       "\n",
       "    .dataframe tbody tr th {\n",
       "        vertical-align: top;\n",
       "    }\n",
       "\n",
       "    .dataframe thead th {\n",
       "        text-align: right;\n",
       "    }\n",
       "</style>\n",
       "<table border=\"1\" class=\"dataframe\">\n",
       "  <thead>\n",
       "    <tr style=\"text-align: right;\">\n",
       "      <th></th>\n",
       "      <th>Hours</th>\n",
       "      <th>Scores</th>\n",
       "    </tr>\n",
       "  </thead>\n",
       "  <tbody>\n",
       "    <tr>\n",
       "      <th>count</th>\n",
       "      <td>25.000000</td>\n",
       "      <td>25.000000</td>\n",
       "    </tr>\n",
       "    <tr>\n",
       "      <th>mean</th>\n",
       "      <td>5.012000</td>\n",
       "      <td>51.480000</td>\n",
       "    </tr>\n",
       "    <tr>\n",
       "      <th>std</th>\n",
       "      <td>2.525094</td>\n",
       "      <td>25.286887</td>\n",
       "    </tr>\n",
       "    <tr>\n",
       "      <th>min</th>\n",
       "      <td>1.100000</td>\n",
       "      <td>17.000000</td>\n",
       "    </tr>\n",
       "    <tr>\n",
       "      <th>25%</th>\n",
       "      <td>2.700000</td>\n",
       "      <td>30.000000</td>\n",
       "    </tr>\n",
       "    <tr>\n",
       "      <th>50%</th>\n",
       "      <td>4.800000</td>\n",
       "      <td>47.000000</td>\n",
       "    </tr>\n",
       "    <tr>\n",
       "      <th>75%</th>\n",
       "      <td>7.400000</td>\n",
       "      <td>75.000000</td>\n",
       "    </tr>\n",
       "    <tr>\n",
       "      <th>max</th>\n",
       "      <td>9.200000</td>\n",
       "      <td>95.000000</td>\n",
       "    </tr>\n",
       "  </tbody>\n",
       "</table>\n",
       "</div>"
      ],
      "text/plain": [
       "           Hours     Scores\n",
       "count  25.000000  25.000000\n",
       "mean    5.012000  51.480000\n",
       "std     2.525094  25.286887\n",
       "min     1.100000  17.000000\n",
       "25%     2.700000  30.000000\n",
       "50%     4.800000  47.000000\n",
       "75%     7.400000  75.000000\n",
       "max     9.200000  95.000000"
      ]
     },
     "execution_count": 6,
     "metadata": {},
     "output_type": "execute_result"
    }
   ],
   "source": [
    "#Viewing the statistcal details \n",
    "df.describe()"
   ]
  },
  {
   "cell_type": "markdown",
   "id": "b84f5e56",
   "metadata": {},
   "source": [
    "## 2. Exploratory Data Analysis"
   ]
  },
  {
   "cell_type": "code",
   "execution_count": 7,
   "id": "eff3b7f4",
   "metadata": {},
   "outputs": [
    {
     "data": {
      "image/png": "[encoded data removed]",
      "text/plain": [
       "<Figure size 1296x288 with 2 Axes>"
      ]
     },
     "metadata": {
      "needs_background": "light"
     },
     "output_type": "display_data"
    }
   ],
   "source": [
    "# Univariate analysis\n",
    "plt.figure(figsize=(18,4))\n",
    "plt.subplot(1,2,1)\n",
    "sns.boxplot(x = 'Hours', data = df)\n",
    "plt.title('Box Plot of Hours', fontweight = 'bold')\n",
    "plt.subplot(1,2,2)\n",
    "sns.boxplot(x = 'Scores', data = df)\n",
    "plt.title('Box Plot of Scores',fontweight = 'bold')\n",
    "\n",
    "plt.show()"
   ]
  },
  {
   "cell_type": "markdown",
   "id": "5a28709a",
   "metadata": {},
   "source": [
    "#### Insights:\n",
    "\n",
    "There are no outliers present in the two columns"
   ]
  },
  {
   "cell_type": "code",
   "execution_count": 8,
   "id": "99673bde",
   "metadata": {},
   "outputs": [
    {
     "data": {
      "image/png": "[encoded data removed]",
      "text/plain": [
       "<Figure size 432x288 with 1 Axes>"
      ]
     },
     "metadata": {
      "needs_background": "light"
     },
     "output_type": "display_data"
    }
   ],
   "source": [
    "#Bivariate Analysis\n",
    "\n",
    "sns.regplot(x=\"Hours\",y=\"Scores\",data=df)\n",
    "plt.xlabel('Hours studied', fontweight = 'bold')\n",
    "plt.ylabel('Scores obtained', fontweight = 'bold')\n",
    "plt.title('Hours VS Scores', fontweight = 'bold', fontsize = 18)\n",
    "plt.show()"
   ]
  },
  {
   "cell_type": "markdown",
   "id": "1f937216",
   "metadata": {},
   "source": [
    "#### Insights:\n",
    "\n",
    "Hours and score do have a linear relationship between them. Hence we can go ahead and perform linear Regression for this dataset."
   ]
  },
  {
   "cell_type": "code",
   "execution_count": 9,
   "id": "2c887425",
   "metadata": {},
   "outputs": [
    {
     "data": {
      "image/png": "[encoded data removed]",
      "text/plain": [
       "<Figure size 432x288 with 2 Axes>"
      ]
     },
     "metadata": {
      "needs_background": "light"
     },
     "output_type": "display_data"
    }
   ],
   "source": [
    "# Checking correaltion factor between the two column\n",
    "sns.heatmap(df.corr(),annot=True,cmap='YlGnBu')\n",
    "plt.show()"
   ]
  },
  {
   "cell_type": "markdown",
   "id": "606e000d",
   "metadata": {},
   "source": [
    "#### Insights:\n",
    "Hours and Score is highly positively correlated with a correlation factor of 0.98"
   ]
  },
  {
   "cell_type": "markdown",
   "id": "24949788",
   "metadata": {},
   "source": [
    "## 3. Test Train Split "
   ]
  },
  {
   "cell_type": "markdown",
   "id": "dd75fc7b",
   "metadata": {},
   "source": [
    "Steps:\n",
    "- Create X and Y\n",
    "- Create train and test sets (70-30, 80-20)\n",
    "- Train your model on the train set (i.e learn the coefficients)\n",
    "- Evaluate the model (training set, test set)"
   ]
  },
  {
   "cell_type": "code",
   "execution_count": 10,
   "id": "f897be69",
   "metadata": {},
   "outputs": [],
   "source": [
    "# Create X and Y sets\n",
    "X=df['Hours']\n",
    "y=df['Scores']"
   ]
  },
  {
   "cell_type": "code",
   "execution_count": 11,
   "id": "444b4701",
   "metadata": {},
   "outputs": [],
   "source": [
    "# Performing test train split with 70-30 ratio\n",
    "X_train,X_test,y_train,y_test=train_test_split(X,y,train_size=0.70,test_size=0.30,random_state=100)"
   ]
  },
  {
   "cell_type": "code",
   "execution_count": 12,
   "id": "f8985a26",
   "metadata": {},
   "outputs": [
    {
     "name": "stdout",
     "output_type": "stream",
     "text": [
      "X_train:  (17,)\n",
      "X_test:  (8,)\n",
      "y_train:  (17,)\n",
      "y_test:  (8,)\n"
     ]
    }
   ],
   "source": [
    "# Checking the shapes for all the sets\n",
    "print('X_train: ', X_train.shape)\n",
    "print('X_test: ', X_test.shape)\n",
    "print('y_train: ', y_train.shape)\n",
    "print('y_test: ', y_test.shape)"
   ]
  },
  {
   "cell_type": "markdown",
   "id": "f8e78f7e",
   "metadata": {},
   "source": [
    "### Training the model with stats function"
   ]
  },
  {
   "cell_type": "code",
   "execution_count": 13,
   "id": "afb670cc",
   "metadata": {},
   "outputs": [
    {
     "data": {
      "text/html": [
       "<div>\n",
       "<style scoped>\n",
       "    .dataframe tbody tr th:only-of-type {\n",
       "        vertical-align: middle;\n",
       "    }\n",
       "\n",
       "    .dataframe tbody tr th {\n",
       "        vertical-align: top;\n",
       "    }\n",
       "\n",
       "    .dataframe thead th {\n",
       "        text-align: right;\n",
       "    }\n",
       "</style>\n",
       "<table border=\"1\" class=\"dataframe\">\n",
       "  <thead>\n",
       "    <tr style=\"text-align: right;\">\n",
       "      <th></th>\n",
       "      <th>const</th>\n",
       "      <th>Hours</th>\n",
       "    </tr>\n",
       "  </thead>\n",
       "  <tbody>\n",
       "    <tr>\n",
       "      <th>6</th>\n",
       "      <td>1.0</td>\n",
       "      <td>9.2</td>\n",
       "    </tr>\n",
       "    <tr>\n",
       "      <th>12</th>\n",
       "      <td>1.0</td>\n",
       "      <td>4.5</td>\n",
       "    </tr>\n",
       "    <tr>\n",
       "      <th>4</th>\n",
       "      <td>1.0</td>\n",
       "      <td>3.5</td>\n",
       "    </tr>\n",
       "    <tr>\n",
       "      <th>24</th>\n",
       "      <td>1.0</td>\n",
       "      <td>7.8</td>\n",
       "    </tr>\n",
       "    <tr>\n",
       "      <th>0</th>\n",
       "      <td>1.0</td>\n",
       "      <td>2.5</td>\n",
       "    </tr>\n",
       "  </tbody>\n",
       "</table>\n",
       "</div>"
      ],
      "text/plain": [
       "    const  Hours\n",
       "6     1.0    9.2\n",
       "12    1.0    4.5\n",
       "4     1.0    3.5\n",
       "24    1.0    7.8\n",
       "0     1.0    2.5"
      ]
     },
     "execution_count": 13,
     "metadata": {},
     "output_type": "execute_result"
    }
   ],
   "source": [
    "# Adding Constant\n",
    "X_train_sm=sm.add_constant(X_train)\n",
    "X_train_sm.head()"
   ]
  },
  {
   "cell_type": "code",
   "execution_count": 14,
   "id": "c27d367d",
   "metadata": {},
   "outputs": [
    {
     "data": {
      "text/plain": [
       "const    1.495142\n",
       "Hours    9.871714\n",
       "dtype: float64"
      ]
     },
     "execution_count": 14,
     "metadata": {},
     "output_type": "execute_result"
    }
   ],
   "source": [
    "# Fitting the model\n",
    "lr = sm.OLS(y_train,X_train_sm)\n",
    "lr_model = lr.fit()\n",
    "lr_model.params"
   ]
  },
  {
   "cell_type": "code",
   "execution_count": 15,
   "id": "db7129fa",
   "metadata": {},
   "outputs": [
    {
     "name": "stdout",
     "output_type": "stream",
     "text": [
      "                            OLS Regression Results                            \n",
      "==============================================================================\n",
      "Dep. Variable:                 Scores   R-squared:                       0.957\n",
      "Model:                            OLS   Adj. R-squared:                  0.954\n",
      "Method:                 Least Squares   F-statistic:                     334.4\n",
      "Date:                Thu, 13 Apr 2023   Prob (F-statistic):           1.15e-11\n",
      "Time:                        08:56:11   Log-Likelihood:                -53.270\n",
      "No. Observations:                  17   AIC:                             110.5\n",
      "Df Residuals:                      15   BIC:                             112.2\n",
      "Df Model:                           1                                         \n",
      "Covariance Type:            nonrobust                                         \n",
      "==============================================================================\n",
      "                 coef    std err          t      P>|t|      [0.025      0.975]\n",
      "------------------------------------------------------------------------------\n",
      "const          1.4951      3.169      0.472      0.644      -5.260       8.250\n",
      "Hours          9.8717      0.540     18.288      0.000       8.721      11.022\n",
      "==============================================================================\n",
      "Omnibus:                        4.576   Durbin-Watson:                   1.929\n",
      "Prob(Omnibus):                  0.101   Jarque-Bera (JB):                1.488\n",
      "Skew:                          -0.198   Prob(JB):                        0.475\n",
      "Kurtosis:                       1.606   Cond. No.                         13.3\n",
      "==============================================================================\n",
      "\n",
      "Notes:\n",
      "[1] Standard Errors assume that the covariance matrix of the errors is correctly specified.\n"
     ]
    }
   ],
   "source": [
    "# Printing the model summary\n",
    "print(lr_model.summary())"
   ]
  },
  {
   "cell_type": "markdown",
   "id": "b05088fd",
   "metadata": {},
   "source": [
    "### Validating Linear Regression assumptions"
   ]
  },
  {
   "cell_type": "code",
   "execution_count": 16,
   "id": "891d0091",
   "metadata": {},
   "outputs": [],
   "source": [
    "y_train_pred=lr_model.predict(X_train_sm)"
   ]
  },
  {
   "cell_type": "code",
   "execution_count": 17,
   "id": "95f8cb85",
   "metadata": {},
   "outputs": [
    {
     "data": {
      "image/png": "[encoded data removed]",
      "text/plain": [
       "<Figure size 432x288 with 1 Axes>"
      ]
     },
     "metadata": {
      "needs_background": "light"
     },
     "output_type": "display_data"
    }
   ],
   "source": [
    "#Visualizing the fit on the train set\n",
    "\n",
    "plt.scatter(X_train, y_train)\n",
    "plt.plot(X_train,y_train_pred, \"r\")\n",
    "plt.xlabel('Hours studied', fontweight = 'bold')\n",
    "plt.ylabel('Scores obtained', fontweight = 'bold')\n",
    "plt.title('Best fit line for train set', fontweight = 'bold', fontsize = 16)\n",
    "#plt.plot(X_train,1.4951+9.8717*X_train, \"r\")\n",
    "plt.show()"
   ]
  },
  {
   "cell_type": "markdown",
   "id": "65800229",
   "metadata": {},
   "source": [
    "## 4. Residual Analysis"
   ]
  },
  {
   "cell_type": "code",
   "execution_count": 18,
   "id": "05606ff5",
   "metadata": {},
   "outputs": [
    {
     "data": {
      "text/plain": [
       "6    -4.314915\n",
       "12   -4.917857\n",
       "4    -6.046143\n",
       "24    7.505485\n",
       "0    -5.174428\n",
       "dtype: float64"
      ]
     },
     "execution_count": 18,
     "metadata": {},
     "output_type": "execute_result"
    }
   ],
   "source": [
    "# error = f(y_train, y_train_pred)  \n",
    "res = y_train - y_train_pred\n",
    "res.head()"
   ]
  },
  {
   "cell_type": "code",
   "execution_count": 19,
   "id": "af8a22b5",
   "metadata": {},
   "outputs": [
    {
     "data": {
      "image/png": "[encoded data removed]",
      "text/plain": [
       "<Figure size 432x288 with 1 Axes>"
      ]
     },
     "metadata": {
      "needs_background": "light"
     },
     "output_type": "display_data"
    }
   ],
   "source": [
    "#Plot the residuals\n",
    "plt.figure()\n",
    "sns.distplot(res)\n",
    "plt.title('Error terms',fontweight = 'bold', fontsize = 18)\n",
    "plt.show()"
   ]
  },
  {
   "cell_type": "markdown",
   "id": "0f30615a",
   "metadata": {},
   "source": [
    "#### Insights:\n",
    "It can be seen that the error terms are normally distributed with mean 0. Hence validated one of the assumptions of Linear Regression    "
   ]
  },
  {
   "cell_type": "code",
   "execution_count": 20,
   "id": "da1e5acf",
   "metadata": {},
   "outputs": [
    {
     "data": {
      "image/png": "[encoded data removed]",
      "text/plain": [
       "<Figure size 432x288 with 1 Axes>"
      ]
     },
     "metadata": {
      "needs_background": "light"
     },
     "output_type": "display_data"
    }
   ],
   "source": [
    "#Plotting scatter plot to chech res\n",
    "plt.scatter(X_train,res)\n",
    "plt.show()"
   ]
  },
  {
   "cell_type": "markdown",
   "id": "1ab37ba8",
   "metadata": {},
   "source": [
    "#### Insights:\n",
    "Error terms/ residuals dont tend to follow any particular pattern as such. They seem to be distributed randomly"
   ]
  },
  {
   "cell_type": "markdown",
   "id": "8249da75",
   "metadata": {},
   "source": [
    "## 5. Predictions and Evaluation on the test set"
   ]
  },
  {
   "cell_type": "code",
   "execution_count": 21,
   "id": "e03a6070",
   "metadata": {},
   "outputs": [],
   "source": [
    "#  make Predictions on the test set (y_test_pred)\n",
    "#  Evaluate the model, r_squared, on the test"
   ]
  },
  {
   "cell_type": "code",
   "execution_count": 22,
   "id": "d9cd60ad",
   "metadata": {},
   "outputs": [
    {
     "data": {
      "text/plain": [
       "9     28.148771\n",
       "22    39.007657\n",
       "13    34.071800\n",
       "11    59.738257\n",
       "5     16.302714\n",
       "19    74.545829\n",
       "23    69.609972\n",
       "21    48.879371\n",
       "dtype: float64"
      ]
     },
     "execution_count": 22,
     "metadata": {},
     "output_type": "execute_result"
    }
   ],
   "source": [
    "# add a cons/intercept to test\n",
    "X_test_sm=sm.add_constant(X_test)\n",
    "# pred on test\n",
    "y_test_pred = lr_model.predict(X_test_sm)\n",
    "y_test_pred"
   ]
  },
  {
   "cell_type": "code",
   "execution_count": 23,
   "id": "ec85cfff",
   "metadata": {},
   "outputs": [
    {
     "name": "stdout",
     "output_type": "stream",
     "text": [
      "R2_score of test set using stats model:  93.09458862687438\n",
      "R2_score of train set using stats model:  95.70735354094693\n"
     ]
    }
   ],
   "source": [
    "#  Evaluate the model, r_squared, on the test\n",
    "#r2 on Test\n",
    "r2=r2_score(y_true=y_test, y_pred=y_test_pred)\n",
    "print('R2_score of test set using stats model: ', (r2)*100)\n",
    "\n",
    "#r2 on Train\n",
    "r2=r2_score(y_true=y_train, y_pred=y_train_pred)\n",
    "print('R2_score of train set using stats model: ', (r2)*100)"
   ]
  },
  {
   "cell_type": "code",
   "execution_count": 24,
   "id": "9ef54835",
   "metadata": {},
   "outputs": [
    {
     "data": {
      "image/png": "[encoded data removed]",
      "text/plain": [
       "<Figure size 432x288 with 1 Axes>"
      ]
     },
     "metadata": {
      "needs_background": "light"
     },
     "output_type": "display_data"
    }
   ],
   "source": [
    "#Visualizing the fit on the test set\n",
    "plt.scatter(X_test, y_test)\n",
    "plt.plot(X_test, y_test_pred, 'r')\n",
    "plt.xlabel('Hours studied', fontweight = 'bold')\n",
    "plt.ylabel('Scores obtained', fontweight = 'bold')\n",
    "plt.title('Best Fit line on test set', fontweight = 'bold', fontsize = 16)\n",
    "plt.show()"
   ]
  },
  {
   "cell_type": "markdown",
   "id": "4c03e1eb",
   "metadata": {},
   "source": [
    "# Liner Regression Using Sklearn Function"
   ]
  },
  {
   "cell_type": "code",
   "execution_count": 25,
   "id": "a8ec96c4",
   "metadata": {},
   "outputs": [],
   "source": [
    "# train test Split\n",
    "from sklearn.model_selection import train_test_split\n",
    "\n",
    "X_train,X_test,y_train,y_test=train_test_split(X,y,train_size=0.70,test_size=0.30,random_state=100)"
   ]
  },
  {
   "cell_type": "code",
   "execution_count": 26,
   "id": "149bd0f1",
   "metadata": {},
   "outputs": [
    {
     "data": {
      "text/plain": [
       "(17, 1)"
      ]
     },
     "execution_count": 26,
     "metadata": {},
     "output_type": "execute_result"
    }
   ],
   "source": [
    "# Reshaping the X train and X test set\n",
    "X_train_lm=X_train.values.reshape(-1,1)\n",
    "X_test_lm=X_test.values.reshape(-1,1)\n",
    "X_train_lm.shape"
   ]
  },
  {
   "cell_type": "code",
   "execution_count": 27,
   "id": "202b5f48",
   "metadata": {},
   "outputs": [
    {
     "data": {
      "text/plain": [
       "LinearRegression()"
      ]
     },
     "execution_count": 27,
     "metadata": {},
     "output_type": "execute_result"
    }
   ],
   "source": [
    "# steps in sklearn model building\n",
    "from sklearn.linear_model import LinearRegression\n",
    "\n",
    "#1. create the object of liner regression\n",
    "lm = LinearRegression()\n",
    "\n",
    "# 2. fit the model\n",
    "lm.fit(X_train_lm,y_train)"
   ]
  },
  {
   "cell_type": "code",
   "execution_count": 28,
   "id": "bbc86e5b",
   "metadata": {},
   "outputs": [
    {
     "name": "stdout",
     "output_type": "stream",
     "text": [
      "[9.87171443]\n",
      "1.495142109236383\n"
     ]
    }
   ],
   "source": [
    "#3. see the params, make predictions (train,test)\n",
    "print(lm.coef_)\n",
    "print(lm.intercept_)"
   ]
  },
  {
   "cell_type": "code",
   "execution_count": 29,
   "id": "ac47e347",
   "metadata": {},
   "outputs": [],
   "source": [
    "# make prediction\n",
    "y_train_pred = lm.predict(X_train_lm)\n",
    "y_test_pred = lm.predict(X_test_lm)"
   ]
  },
  {
   "cell_type": "code",
   "execution_count": 30,
   "id": "32788494",
   "metadata": {},
   "outputs": [
    {
     "name": "stdout",
     "output_type": "stream",
     "text": [
      "R2_score of train set using SK Learn model:  95.70735354094693\n",
      "R2_score of test set using SK Learn model:  93.09458862687437\n"
     ]
    }
   ],
   "source": [
    "#4.evaluate the model(r2, etc.)\n",
    "print('R2_score of train set using SK Learn model: ',r2_score(y_true=y_train, y_pred=y_train_pred)*100)\n",
    "print('R2_score of test set using SK Learn model: ',r2_score(y_true=y_test, y_pred=y_test_pred)*100)"
   ]
  },
  {
   "cell_type": "markdown",
   "id": "749a3617",
   "metadata": {},
   "source": [
    "#### Insights:\n",
    "In summary, the R-square value for the training set was 95.7%, while for the test set it was 93.09%, which is deemed acceptable. Therefore, the model has performed well and has successfully generalized the data. Moving forward, we will proceed to deploy the model to make predictions for our problem statement."
   ]
  },
  {
   "cell_type": "markdown",
   "id": "9f149ca0",
   "metadata": {},
   "source": [
    "### Problem statement: What will be the predicted score if a student studies for 9.25hrs/day?"
   ]
  },
  {
   "cell_type": "code",
   "execution_count": 31,
   "id": "ed28b0ab",
   "metadata": {},
   "outputs": [
    {
     "name": "stdout",
     "output_type": "stream",
     "text": [
      "Predicted Student Score :92.80850057353504\n"
     ]
    }
   ],
   "source": [
    "#predicting the student score using our liner regression model.\n",
    "\n",
    "hours = [[9.25]]\n",
    "print('Predicted Student Score :{}'.format(lm.predict(hours)[0]))"
   ]
  },
  {
   "cell_type": "markdown",
   "id": "46321cc1",
   "metadata": {},
   "source": [
    "####  How did the model get the predicted score as 92.90% for a student who studied for 9.25 hrs/day? Let's break it down step by step."
   ]
  },
  {
   "cell_type": "markdown",
   "id": "5f8cd8bb",
   "metadata": {},
   "source": [
    "As per Linear regression,\n",
    "y = mx + c\n",
    "\n",
    "where,\n",
    "x: Independent variable (i.e. Input),\n",
    "y: Dependent variable (i.e. Output),\n",
    "m: Coefficient of the independent variable,\n",
    "c: Intercept."
   ]
  },
  {
   "cell_type": "markdown",
   "id": "11865199",
   "metadata": {},
   "source": [
    "From Model, we got coefficient value: 9.87171443 and intercept value: 1.495142109236383 and x value: 9.25"
   ]
  },
  {
   "cell_type": "code",
   "execution_count": 32,
   "id": "2a373317",
   "metadata": {},
   "outputs": [
    {
     "name": "stdout",
     "output_type": "stream",
     "text": [
      "If a student studies for 9.25 hours per day, the model predicts that their score would be approximately 92.80850058673639\n"
     ]
    }
   ],
   "source": [
    "# This calculation shows the process through which I obtained the predicted score\n",
    "y=9.87171443*9.25+1.495142109236383\n",
    "print(\"If a student studies for 9.25 hours per day, the model predicts that their score would be approximately {}\".format(y))"
   ]
  },
  {
   "cell_type": "markdown",
   "id": "b81449df",
   "metadata": {},
   "source": [
    "### Thanks for reviewing my code!!"
   ]
  }
 ],
 "metadata": {
  "kernelspec": {
   "display_name": "Python 3 (ipykernel)",
   "language": "python",
   "name": "python3"
  },
  "language_info": {
   "codemirror_mode": {
    "name": "ipython",
    "version": 3
   },
   "file_extension": ".py",
   "mimetype": "text/x-python",
   "name": "python",
   "nbconvert_exporter": "python",
   "pygments_lexer": "ipython3",
   "version": "3.9.12"
  }
 },
 "nbformat": 4,
 "nbformat_minor": 5
}
